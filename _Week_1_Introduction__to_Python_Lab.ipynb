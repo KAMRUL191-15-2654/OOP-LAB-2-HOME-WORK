{
  "nbformat": 4,
  "nbformat_minor": 0,
  "metadata": {
    "colab": {
      "name": "Copy of Week_1_Introduction__to_Python_Lab.ipynb",
      "provenance": [],
      "include_colab_link": true
    },
    "kernelspec": {
      "name": "python3",
      "display_name": "Python 3"
    }
  },
  "cells": [
    {
      "cell_type": "markdown",
      "metadata": {
        "id": "view-in-github",
        "colab_type": "text"
      },
      "source": [
        "<a href=\"https://colab.research.google.com/github/KAMRUL191-15-2654/OOP-LAB-2-HOME-WORK/blob/master/_Week_1_Introduction__to_Python_Lab.ipynb\" target=\"_parent\"><img src=\"https://colab.research.google.com/assets/colab-badge.svg\" alt=\"Open In Colab\"/></a>"
      ]
    },
    {
      "cell_type": "markdown",
      "metadata": {
        "id": "UJJq0DyVg8I5"
      },
      "source": [
        "# **My Python First Program \"Print HeLLo World\"**\n",
        "\n",
        "---\n",
        "\n"
      ]
    },
    {
      "cell_type": "code",
      "metadata": {
        "id": "PaNa364Aji94"
      },
      "source": [
        ""
      ],
      "execution_count": null,
      "outputs": []
    },
    {
      "cell_type": "code",
      "metadata": {
        "id": "lbUvQi0Oj3PC"
      },
      "source": [
        ""
      ],
      "execution_count": null,
      "outputs": []
    },
    {
      "cell_type": "code",
      "metadata": {
        "id": "Uxq3UDwvhrE0"
      },
      "source": [
        "print(\"Hello World\")"
      ],
      "execution_count": null,
      "outputs": []
    },
    {
      "cell_type": "markdown",
      "metadata": {
        "id": "DbN1-jwxg_Uz"
      },
      "source": [
        "# **Variables and Assignment Statements**\n",
        "\n",
        "---\n",
        "\n"
      ]
    },
    {
      "cell_type": "code",
      "metadata": {
        "id": "qg4HmHdtxuP8",
        "outputId": "4624b899-0c68-44b9-8794-be30657eddd8",
        "colab": {
          "base_uri": "https://localhost:8080/",
          "height": 34
        }
      },
      "source": [
        "x=7\n",
        "y=3\n",
        "print(x+y)"
      ],
      "execution_count": null,
      "outputs": [
        {
          "output_type": "stream",
          "text": [
            "10\n"
          ],
          "name": "stdout"
        }
      ]
    },
    {
      "cell_type": "code",
      "metadata": {
        "id": "6GCg41RshUaU",
        "outputId": "edf3f11c-99e4-47db-afaf-f70348642885",
        "colab": {
          "base_uri": "https://localhost:8080/",
          "height": 34
        }
      },
      "source": [
        "total = x+y\n",
        "print(total)"
      ],
      "execution_count": null,
      "outputs": [
        {
          "output_type": "stream",
          "text": [
            "10\n"
          ],
          "name": "stdout"
        }
      ]
    },
    {
      "cell_type": "code",
      "metadata": {
        "id": "as_Y45lGiOqV",
        "outputId": "03800df6-c361-4232-d305-41feb850508a",
        "colab": {
          "base_uri": "https://localhost:8080/",
          "height": 34
        }
      },
      "source": [
        "name = \"Adam\"\n",
        "name2 = \"Eva\"\n",
        "print(name , name2)"
      ],
      "execution_count": null,
      "outputs": [
        {
          "output_type": "stream",
          "text": [
            "Adam Eva\n"
          ],
          "name": "stdout"
        }
      ]
    },
    {
      "cell_type": "markdown",
      "metadata": {
        "id": "Ni31KL61hT0i"
      },
      "source": [
        "# **Types**\n",
        "\n",
        "---\n",
        "\n"
      ]
    },
    {
      "cell_type": "code",
      "metadata": {
        "id": "oke7C20Viioe",
        "outputId": "7a230529-5851-4e36-a95b-7e69325ac074",
        "colab": {
          "base_uri": "https://localhost:8080/",
          "height": 34
        }
      },
      "source": [
        "x =10\n",
        "type(x)"
      ],
      "execution_count": null,
      "outputs": [
        {
          "output_type": "execute_result",
          "data": {
            "text/plain": [
              "int"
            ]
          },
          "metadata": {
            "tags": []
          },
          "execution_count": 6
        }
      ]
    },
    {
      "cell_type": "code",
      "metadata": {
        "id": "xOJJ_57QipiH",
        "outputId": "786ea30f-b201-40ab-c41d-f75dcf914211",
        "colab": {
          "base_uri": "https://localhost:8080/",
          "height": 34
        }
      },
      "source": [
        "type(10.5)"
      ],
      "execution_count": null,
      "outputs": [
        {
          "output_type": "execute_result",
          "data": {
            "text/plain": [
              "float"
            ]
          },
          "metadata": {
            "tags": []
          },
          "execution_count": 7
        }
      ]
    },
    {
      "cell_type": "code",
      "metadata": {
        "id": "9Lkp3pxxixbm",
        "outputId": "db9f799e-a579-4b38-f4d3-d70e589cb995",
        "colab": {
          "base_uri": "https://localhost:8080/",
          "height": 34
        }
      },
      "source": [
        "type(name)"
      ],
      "execution_count": null,
      "outputs": [
        {
          "output_type": "execute_result",
          "data": {
            "text/plain": [
              "str"
            ]
          },
          "metadata": {
            "tags": []
          },
          "execution_count": 8
        }
      ]
    },
    {
      "cell_type": "markdown",
      "metadata": {
        "id": "9Y6a4iihi5sI"
      },
      "source": [
        "# **Arithmetic operators**\n",
        "\n",
        "---\n",
        "\n"
      ]
    },
    {
      "cell_type": "code",
      "metadata": {
        "id": "NIjoLulyizOG",
        "outputId": "612c6113-2bb5-40ab-de68-85b77422c09a",
        "colab": {
          "base_uri": "https://localhost:8080/",
          "height": 34
        }
      },
      "source": [
        " multiplication = 7*4\n",
        " print(multiplication)"
      ],
      "execution_count": null,
      "outputs": [
        {
          "output_type": "stream",
          "text": [
            "28\n"
          ],
          "name": "stdout"
        }
      ]
    },
    {
      "cell_type": "code",
      "metadata": {
        "id": "PxM6_sUGjXOv",
        "outputId": "5728d711-8b61-4502-fcdb-2f64f6fdfe7f",
        "colab": {
          "base_uri": "https://localhost:8080/",
          "height": 34
        }
      },
      "source": [
        "add = 10+15\n",
        "print(add)"
      ],
      "execution_count": null,
      "outputs": [
        {
          "output_type": "stream",
          "text": [
            "25\n"
          ],
          "name": "stdout"
        }
      ]
    },
    {
      "cell_type": "code",
      "metadata": {
        "id": "scDBw7zjjiIH",
        "outputId": "9eaba47b-51b5-49e3-ebaa-feeec2aaea0a",
        "colab": {
          "base_uri": "https://localhost:8080/",
          "height": 34
        }
      },
      "source": [
        "sub = 40-8\n",
        "print(sub)"
      ],
      "execution_count": null,
      "outputs": [
        {
          "output_type": "stream",
          "text": [
            "32\n"
          ],
          "name": "stdout"
        }
      ]
    },
    {
      "cell_type": "code",
      "metadata": {
        "id": "7omshX93jm3n",
        "outputId": "7faf815f-1fe8-466a-9b73-df2bca887930",
        "colab": {
          "base_uri": "https://localhost:8080/",
          "height": 34
        }
      },
      "source": [
        "Exponentiation = 2**10\n",
        "print(Exponentiation)"
      ],
      "execution_count": null,
      "outputs": [
        {
          "output_type": "stream",
          "text": [
            "1024\n"
          ],
          "name": "stdout"
        }
      ]
    },
    {
      "cell_type": "markdown",
      "metadata": {
        "id": "1NtrfNzTkBtk"
      },
      "source": [
        "True Division (/) vs. Floor Division (//)"
      ]
    },
    {
      "cell_type": "code",
      "metadata": {
        "id": "9LAUD0saj24_",
        "outputId": "ba67476a-fd2e-45b4-8c4c-256bf50cc37b",
        "colab": {
          "base_uri": "https://localhost:8080/",
          "height": 34
        }
      },
      "source": [
        "True_Division = 7/4\n",
        "print(True_Division)"
      ],
      "execution_count": null,
      "outputs": [
        {
          "output_type": "stream",
          "text": [
            "1.75\n"
          ],
          "name": "stdout"
        }
      ]
    },
    {
      "cell_type": "code",
      "metadata": {
        "id": "79gA8Z7vkO3o",
        "outputId": "5f0557ff-9f58-4407-eaf9-731077722945",
        "colab": {
          "base_uri": "https://localhost:8080/",
          "height": 34
        }
      },
      "source": [
        "Floor_Division = 7//4\n",
        "print(Floor_Division)"
      ],
      "execution_count": null,
      "outputs": [
        {
          "output_type": "stream",
          "text": [
            "1\n"
          ],
          "name": "stdout"
        }
      ]
    },
    {
      "cell_type": "code",
      "metadata": {
        "id": "4LHWmh9gkf5n",
        "outputId": "32997cc8-c20a-4b4a-99b8-4f858781d80a",
        "colab": {
          "base_uri": "https://localhost:8080/",
          "height": 34
        }
      },
      "source": [
        "remainder = 15%7\n",
        "print(remainder)"
      ],
      "execution_count": null,
      "outputs": [
        {
          "output_type": "stream",
          "text": [
            "1\n"
          ],
          "name": "stdout"
        }
      ]
    },
    {
      "cell_type": "markdown",
      "metadata": {
        "id": "mpnLA1X0llVX"
      },
      "source": [
        "# **Relational Operators**\n",
        "\n",
        "---\n",
        "\n"
      ]
    },
    {
      "cell_type": "code",
      "metadata": {
        "id": "zyOV_Z4-l06D"
      },
      "source": [
        "x = 105\n",
        "y = 100"
      ],
      "execution_count": null,
      "outputs": []
    },
    {
      "cell_type": "code",
      "metadata": {
        "id": "QYIogwjbl1kb",
        "outputId": "2a619809-b86d-49c1-9126-10070ee4e428",
        "colab": {
          "base_uri": "https://localhost:8080/",
          "height": 34
        }
      },
      "source": [
        "x>y"
      ],
      "execution_count": null,
      "outputs": [
        {
          "output_type": "execute_result",
          "data": {
            "text/plain": [
              "True"
            ]
          },
          "metadata": {
            "tags": []
          },
          "execution_count": 22
        }
      ]
    },
    {
      "cell_type": "code",
      "metadata": {
        "id": "k4TzTYm2l2Tn",
        "outputId": "9e6891b8-ec7f-40f3-a0f1-3259ec94d47a",
        "colab": {
          "base_uri": "https://localhost:8080/",
          "height": 34
        }
      },
      "source": [
        "x<y"
      ],
      "execution_count": null,
      "outputs": [
        {
          "output_type": "execute_result",
          "data": {
            "text/plain": [
              "False"
            ]
          },
          "metadata": {
            "tags": []
          },
          "execution_count": 23
        }
      ]
    },
    {
      "cell_type": "code",
      "metadata": {
        "id": "n0V32Q-SmG6i",
        "outputId": "ebcf3338-7418-4449-be2f-1e9c70d44d14",
        "colab": {
          "base_uri": "https://localhost:8080/",
          "height": 34
        }
      },
      "source": [
        "x==y"
      ],
      "execution_count": null,
      "outputs": [
        {
          "output_type": "execute_result",
          "data": {
            "text/plain": [
              "False"
            ]
          },
          "metadata": {
            "tags": []
          },
          "execution_count": 24
        }
      ]
    },
    {
      "cell_type": "code",
      "metadata": {
        "id": "kJJc69h8mG9W",
        "outputId": "9849e5f7-e538-4513-d577-64e0710f8570",
        "colab": {
          "base_uri": "https://localhost:8080/",
          "height": 34
        }
      },
      "source": [
        "x!=y"
      ],
      "execution_count": null,
      "outputs": [
        {
          "output_type": "execute_result",
          "data": {
            "text/plain": [
              "True"
            ]
          },
          "metadata": {
            "tags": []
          },
          "execution_count": 25
        }
      ]
    },
    {
      "cell_type": "code",
      "metadata": {
        "id": "85-ynPF1mHC2",
        "outputId": "f3dff2dc-02d0-4157-8666-c756390bdeec",
        "colab": {
          "base_uri": "https://localhost:8080/",
          "height": 34
        }
      },
      "source": [
        "x>=y"
      ],
      "execution_count": null,
      "outputs": [
        {
          "output_type": "execute_result",
          "data": {
            "text/plain": [
              "True"
            ]
          },
          "metadata": {
            "tags": []
          },
          "execution_count": 26
        }
      ]
    },
    {
      "cell_type": "code",
      "metadata": {
        "id": "pQTyjZwXmHBD",
        "outputId": "838ce1ab-d534-4ad4-d31a-2ac650364524",
        "colab": {
          "base_uri": "https://localhost:8080/",
          "height": 34
        }
      },
      "source": [
        "x<=y"
      ],
      "execution_count": null,
      "outputs": [
        {
          "output_type": "execute_result",
          "data": {
            "text/plain": [
              "False"
            ]
          },
          "metadata": {
            "tags": []
          },
          "execution_count": 27
        }
      ]
    },
    {
      "cell_type": "markdown",
      "metadata": {
        "id": "GN323jCNwLnj"
      },
      "source": [
        "Chaining Comparisons"
      ]
    },
    {
      "cell_type": "code",
      "metadata": {
        "id": "hlxRGBHtwNcJ"
      },
      "source": [
        "x = 3\n",
        "y = 10"
      ],
      "execution_count": null,
      "outputs": []
    },
    {
      "cell_type": "code",
      "metadata": {
        "id": "JckxAimYwUnj",
        "outputId": "4c98ea47-80d4-4f12-cee0-d82cc12e62cf",
        "colab": {
          "base_uri": "https://localhost:8080/",
          "height": 34
        }
      },
      "source": [
        "1 <= x <= 5"
      ],
      "execution_count": null,
      "outputs": [
        {
          "output_type": "execute_result",
          "data": {
            "text/plain": [
              "True"
            ]
          },
          "metadata": {
            "tags": []
          },
          "execution_count": 67
        }
      ]
    },
    {
      "cell_type": "code",
      "metadata": {
        "id": "_m8YjFPWwnYZ",
        "outputId": "396aa0d3-9bcf-427f-c8e1-a239564a35ef",
        "colab": {
          "base_uri": "https://localhost:8080/",
          "height": 34
        }
      },
      "source": [
        "1 <= y <= 5"
      ],
      "execution_count": null,
      "outputs": [
        {
          "output_type": "execute_result",
          "data": {
            "text/plain": [
              "False"
            ]
          },
          "metadata": {
            "tags": []
          },
          "execution_count": 68
        }
      ]
    },
    {
      "cell_type": "markdown",
      "metadata": {
        "id": "Tc093ouolPJ2"
      },
      "source": [
        "# **Print Function**\n",
        "\n",
        "---\n",
        "\n"
      ]
    },
    {
      "cell_type": "markdown",
      "metadata": {
        "id": "j9SuPC1rnAnS"
      },
      "source": [
        "Printing a Comma-Separated List of Items"
      ]
    },
    {
      "cell_type": "code",
      "metadata": {
        "id": "zZu85344k-pv",
        "outputId": "3cc4c718-465f-438c-fb15-0a123d4cee58",
        "colab": {
          "base_uri": "https://localhost:8080/",
          "height": 34
        }
      },
      "source": [
        "print('Welcome', 'to', 'Python!')"
      ],
      "execution_count": null,
      "outputs": [
        {
          "output_type": "stream",
          "text": [
            "Welcome to Python!\n"
          ],
          "name": "stdout"
        }
      ]
    },
    {
      "cell_type": "markdown",
      "metadata": {
        "id": "45uFWOzRnToS"
      },
      "source": [
        "Printing Many Lines of Text with One Statement"
      ]
    },
    {
      "cell_type": "code",
      "metadata": {
        "id": "-JpAQC6BnEvf",
        "outputId": "99924760-2a91-49ae-d8f9-54243fb15725",
        "colab": {
          "base_uri": "https://localhost:8080/",
          "height": 85
        }
      },
      "source": [
        "print('Welcome\\nto\\n\\nPython!')"
      ],
      "execution_count": null,
      "outputs": [
        {
          "output_type": "stream",
          "text": [
            "Welcome\n",
            "to\n",
            "\n",
            "Python!\n"
          ],
          "name": "stdout"
        }
      ]
    },
    {
      "cell_type": "markdown",
      "metadata": {
        "id": "Q5MhTt-rom_N"
      },
      "source": [
        "The following table shows some common escape sequences.![Picture1.png](data:image/png;base64,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)"
      ]
    },
    {
      "cell_type": "markdown",
      "metadata": {
        "id": "1MFAMjgTnk41"
      },
      "source": [
        "Ignoring a Line Break in a Long String"
      ]
    },
    {
      "cell_type": "code",
      "metadata": {
        "id": "3Hcf_xBjnZAw",
        "outputId": "3dce519e-0f48-48d5-a2e7-d1970d8a940f",
        "colab": {
          "base_uri": "https://localhost:8080/",
          "height": 34
        }
      },
      "source": [
        "print('this is a longer string, so we \\\n",
        " split it over two lines')"
      ],
      "execution_count": null,
      "outputs": [
        {
          "output_type": "stream",
          "text": [
            "this is a longer string, so we  split it over two lines\n"
          ],
          "name": "stdout"
        }
      ]
    },
    {
      "cell_type": "markdown",
      "metadata": {
        "id": "YhNzu1Hxn0jN"
      },
      "source": [
        "Printing the Value of an Expression"
      ]
    },
    {
      "cell_type": "code",
      "metadata": {
        "id": "4gzskSvCnsRj",
        "outputId": "1486d2e5-f6c1-42f3-c67a-ef33790d6957",
        "colab": {
          "base_uri": "https://localhost:8080/",
          "height": 34
        }
      },
      "source": [
        "print('Sum is', 7 + 3)"
      ],
      "execution_count": null,
      "outputs": [
        {
          "output_type": "stream",
          "text": [
            "Sum is 10\n"
          ],
          "name": "stdout"
        }
      ]
    },
    {
      "cell_type": "markdown",
      "metadata": {
        "id": "alpAFbQ_paGM"
      },
      "source": [
        "What does the following print statement display?\n",
        "\n",
        "**print('int(5.2)', 'truncates 5.2 to', int(5.2))**"
      ]
    },
    {
      "cell_type": "code",
      "metadata": {
        "id": "M7c8lh-8n5LH",
        "outputId": "850b45a8-63e0-4a82-eb61-45ef03a36d77",
        "colab": {
          "base_uri": "https://localhost:8080/",
          "height": 34
        }
      },
      "source": [
        "print('int(5.2)', 'truncates 5.2 to', int(5.2))"
      ],
      "execution_count": null,
      "outputs": [
        {
          "output_type": "stream",
          "text": [
            "int(5.2) truncates 5.2 to 5\n"
          ],
          "name": "stdout"
        }
      ]
    },
    {
      "cell_type": "markdown",
      "metadata": {
        "id": "1XaCO4yhp2Fh"
      },
      "source": [
        "Including Quotes in Strings"
      ]
    },
    {
      "cell_type": "code",
      "metadata": {
        "id": "0n4YdMLNpo8q",
        "outputId": "642a38e6-e4fc-49df-d9d6-35c3eb778094",
        "colab": {
          "base_uri": "https://localhost:8080/",
          "height": 34
        }
      },
      "source": [
        "print('Display \"hi\" in quotes')"
      ],
      "execution_count": null,
      "outputs": [
        {
          "output_type": "stream",
          "text": [
            "Display \"hi\" in quotes\n"
          ],
          "name": "stdout"
        }
      ]
    },
    {
      "cell_type": "code",
      "metadata": {
        "id": "dks5HTI2qbBD",
        "outputId": "f7281488-e6a8-4fba-d4f2-03853c14a737",
        "colab": {
          "base_uri": "https://localhost:8080/",
          "height": 34
        }
      },
      "source": [
        "print('Display \\'hi\\' in quotes')   #using the \\' escape sequence:"
      ],
      "execution_count": null,
      "outputs": [
        {
          "output_type": "stream",
          "text": [
            "Display 'hi' in quotes\n"
          ],
          "name": "stdout"
        }
      ]
    },
    {
      "cell_type": "code",
      "metadata": {
        "id": "59Fmp73aq11h",
        "outputId": "79848d43-7e18-48af-a516-9b1a8fbd40d3",
        "colab": {
          "base_uri": "https://localhost:8080/",
          "height": 34
        }
      },
      "source": [
        "print(\"Display the name O'Brien\")"
      ],
      "execution_count": null,
      "outputs": [
        {
          "output_type": "stream",
          "text": [
            "Display the name O'Brien\n"
          ],
          "name": "stdout"
        }
      ]
    },
    {
      "cell_type": "code",
      "metadata": {
        "id": "p5yJgI0_q2Dh",
        "outputId": "a35c20e4-a9c7-4881-8681-b7a160dcbf3f",
        "colab": {
          "base_uri": "https://localhost:8080/",
          "height": 34
        }
      },
      "source": [
        "print(\"Display \\\"hi\\\" in quotes\")"
      ],
      "execution_count": null,
      "outputs": [
        {
          "output_type": "stream",
          "text": [
            "Display \"hi\" in quotes\n"
          ],
          "name": "stdout"
        }
      ]
    },
    {
      "cell_type": "markdown",
      "metadata": {
        "id": "2tmbblbCp2TI"
      },
      "source": [
        "To avoid using \\' and \\\" inside strings, you can enclose such strings in triple quotes:"
      ]
    },
    {
      "cell_type": "code",
      "metadata": {
        "id": "myznCbzMrHDI",
        "outputId": "5bdeeb5c-b75c-407a-f21e-aa1668ecdb1b",
        "colab": {
          "base_uri": "https://localhost:8080/",
          "height": 34
        }
      },
      "source": [
        "print(\"\"\"Display \"hi\" and 'bye' in quotes\"\"\")"
      ],
      "execution_count": null,
      "outputs": [
        {
          "output_type": "stream",
          "text": [
            "Display \"hi\" and 'bye' in quotes\n"
          ],
          "name": "stdout"
        }
      ]
    },
    {
      "cell_type": "markdown",
      "metadata": {
        "id": "XETCna9wp2f2"
      },
      "source": [
        "Multiline Strings"
      ]
    },
    {
      "cell_type": "code",
      "metadata": {
        "id": "vo223kG9rRxy"
      },
      "source": [
        "triple_quoted_string = \"\"\"This is a triple-quoted\n",
        "string that spans two lines\"\"\""
      ],
      "execution_count": null,
      "outputs": []
    },
    {
      "cell_type": "code",
      "metadata": {
        "id": "g4RB-yLYrVs5",
        "outputId": "666c35d2-4d76-42ef-847d-bf8655f76acc",
        "colab": {
          "base_uri": "https://localhost:8080/",
          "height": 51
        }
      },
      "source": [
        "print(triple_quoted_string)"
      ],
      "execution_count": null,
      "outputs": [
        {
          "output_type": "stream",
          "text": [
            "This is a triple-quoted\n",
            "string that spans two lines\n"
          ],
          "name": "stdout"
        }
      ]
    },
    {
      "cell_type": "code",
      "metadata": {
        "id": "ncWZyiJorbMR",
        "outputId": "f13a716e-5c5f-43fb-deb7-04d86e0c73d3",
        "colab": {
          "base_uri": "https://localhost:8080/",
          "height": 35
        }
      },
      "source": [
        "triple_quoted_string"
      ],
      "execution_count": null,
      "outputs": [
        {
          "output_type": "execute_result",
          "data": {
            "application/vnd.google.colaboratory.intrinsic+json": {
              "type": "string"
            },
            "text/plain": [
              "'This is a triple-quoted\\nstring that spans two lines'"
            ]
          },
          "metadata": {
            "tags": []
          },
          "execution_count": 47
        }
      ]
    },
    {
      "cell_type": "code",
      "metadata": {
        "id": "qc-4KCearr5B",
        "outputId": "6a961640-f541-4e63-d240-d0ed0a60cecf",
        "colab": {
          "base_uri": "https://localhost:8080/",
          "height": 68
        }
      },
      "source": [
        "print(\"\"\"This is a lengthy\n",
        "multiline string containing\n",
        "a few lines \\\n",
        "of text\"\"\")"
      ],
      "execution_count": null,
      "outputs": [
        {
          "output_type": "stream",
          "text": [
            "This is a lengthy\n",
            "multiline string containing\n",
            "a few lines of text\n"
          ],
          "name": "stdout"
        }
      ]
    },
    {
      "cell_type": "markdown",
      "metadata": {
        "id": "qi1FgvUyKVqY"
      },
      "source": [
        "Precision Handling in Python"
      ]
    },
    {
      "cell_type": "code",
      "metadata": {
        "id": "b0JHoI0JKVT8"
      },
      "source": [
        "a = 3.4536475856"
      ],
      "execution_count": null,
      "outputs": []
    },
    {
      "cell_type": "code",
      "metadata": {
        "id": "kuJvceDlKqPQ",
        "outputId": "9451f8b6-82e9-4655-f2ec-7c2f4dc71ed2",
        "colab": {
          "base_uri": "https://localhost:8080/",
          "height": 34
        }
      },
      "source": [
        "# using \"%\" to print value till 2 decimal places  \n",
        "print (\"The value of number till 2 decimal place(using %) is : \",end=\"\") \n",
        "print ('%.2f' %a) "
      ],
      "execution_count": null,
      "outputs": [
        {
          "output_type": "stream",
          "text": [
            "The value of number till 2 decimal place(using %) is : 3.45\n"
          ],
          "name": "stdout"
        }
      ]
    },
    {
      "cell_type": "code",
      "metadata": {
        "id": "axTnYCpxK5tB",
        "outputId": "d14d2a36-c4cf-49ca-bb35-12599b8f671f",
        "colab": {
          "base_uri": "https://localhost:8080/",
          "height": 34
        }
      },
      "source": [
        "# using \"%\" to print value till 4 decimal places  \n",
        "print (\"The value of number till 2 decimal place(using %) is : \",end=\"\") \n",
        "print ('%.4f' %a)"
      ],
      "execution_count": null,
      "outputs": [
        {
          "output_type": "stream",
          "text": [
            "The value of number till 2 decimal place(using %) is : 3.4536\n"
          ],
          "name": "stdout"
        }
      ]
    },
    {
      "cell_type": "markdown",
      "metadata": {
        "id": "5cVJRxj9r-22"
      },
      "source": [
        "# **Getting Input from the User**\n",
        "The built-in input function requests and obtains user input:"
      ]
    },
    {
      "cell_type": "code",
      "metadata": {
        "id": "gJNp2c4Or7jU",
        "outputId": "7ce2ae9c-55ff-43a1-8196-f1b7e5a87efe",
        "colab": {
          "base_uri": "https://localhost:8080/",
          "height": 34
        }
      },
      "source": [
        "name = input(\"What's your name? \")"
      ],
      "execution_count": null,
      "outputs": [
        {
          "output_type": "stream",
          "text": [
            "What's your name? shifat\n"
          ],
          "name": "stdout"
        }
      ]
    },
    {
      "cell_type": "code",
      "metadata": {
        "id": "GYbU-E9Ysdxq",
        "outputId": "467bb790-9faf-46bd-84f7-3ca016800a2f",
        "colab": {
          "base_uri": "https://localhost:8080/",
          "height": 34
        }
      },
      "source": [
        "print(name)"
      ],
      "execution_count": null,
      "outputs": [
        {
          "output_type": "stream",
          "text": [
            "shifat\n"
          ],
          "name": "stdout"
        }
      ]
    },
    {
      "cell_type": "code",
      "metadata": {
        "id": "POY8NEimspCW",
        "outputId": "fe3a6886-8b48-43b1-ab5b-ae11bbff8c37",
        "colab": {
          "base_uri": "https://localhost:8080/",
          "height": 51
        }
      },
      "source": [
        "value1 = input('Enter first number: ')\n",
        "value2 = input('Enter second number: ')"
      ],
      "execution_count": null,
      "outputs": [
        {
          "output_type": "stream",
          "text": [
            "Enter first number: 30\n",
            "Enter second number: 40\n"
          ],
          "name": "stdout"
        }
      ]
    },
    {
      "cell_type": "code",
      "metadata": {
        "id": "SxvaFVQvspQH",
        "outputId": "caf243f4-62ba-4549-b77c-42f97bb9be77",
        "colab": {
          "base_uri": "https://localhost:8080/",
          "height": 34
        }
      },
      "source": [
        "total = value1 + value2\n",
        "print(total)"
      ],
      "execution_count": null,
      "outputs": [
        {
          "output_type": "stream",
          "text": [
            "3040\n"
          ],
          "name": "stdout"
        }
      ]
    },
    {
      "cell_type": "code",
      "metadata": {
        "id": "yvsClnwOsp4D",
        "outputId": "a8e75f75-3403-4a0c-8f94-17f6edba4584",
        "colab": {
          "base_uri": "https://localhost:8080/",
          "height": 34
        }
      },
      "source": [
        "type(total) #python takes input as a string we have to type cast the input"
      ],
      "execution_count": null,
      "outputs": [
        {
          "output_type": "execute_result",
          "data": {
            "text/plain": [
              "str"
            ]
          },
          "metadata": {
            "tags": []
          },
          "execution_count": 55
        }
      ]
    },
    {
      "cell_type": "code",
      "metadata": {
        "id": "aZgwo8zLtnWs",
        "outputId": "449804c1-0741-4e7a-f295-9a722c0ff735",
        "colab": {
          "base_uri": "https://localhost:8080/",
          "height": 34
        }
      },
      "source": [
        "total = int(value1) + int(value2) #type casting to int format\n",
        "print(total)   "
      ],
      "execution_count": null,
      "outputs": [
        {
          "output_type": "stream",
          "text": [
            "70\n"
          ],
          "name": "stdout"
        }
      ]
    },
    {
      "cell_type": "markdown",
      "metadata": {
        "id": "GYiauHj3r_DO"
      },
      "source": [
        "Getting an Integer from the User by casting the input format"
      ]
    },
    {
      "cell_type": "code",
      "metadata": {
        "id": "OdkR_jdWuOqQ",
        "outputId": "41f9e2b9-20cc-4d4d-b826-c89e9c64d04f",
        "colab": {
          "base_uri": "https://localhost:8080/",
          "height": 34
        }
      },
      "source": [
        "another_value = int(input('Enter another integer: '))"
      ],
      "execution_count": null,
      "outputs": [
        {
          "output_type": "stream",
          "text": [
            "Enter another integer: 10\n"
          ],
          "name": "stdout"
        }
      ]
    },
    {
      "cell_type": "code",
      "metadata": {
        "id": "K6mR1xrFuWFb",
        "outputId": "39154244-88f4-4623-8d1a-b4cdf5a16835",
        "colab": {
          "base_uri": "https://localhost:8080/",
          "height": 34
        }
      },
      "source": [
        "print(another_value)"
      ],
      "execution_count": null,
      "outputs": [
        {
          "output_type": "stream",
          "text": [
            "10\n"
          ],
          "name": "stdout"
        }
      ]
    },
    {
      "cell_type": "markdown",
      "metadata": {
        "id": "ieLg86vhvB72"
      },
      "source": [
        "**Taking multiple input from the user**"
      ]
    },
    {
      "cell_type": "code",
      "metadata": {
        "id": "-5dzapcNuaWK",
        "outputId": "52dcef8c-fe18-4b50-f25a-55a326d3ebb8",
        "colab": {
          "base_uri": "https://localhost:8080/",
          "height": 34
        }
      },
      "source": [
        "a, b = input().split()"
      ],
      "execution_count": null,
      "outputs": [
        {
          "output_type": "stream",
          "text": [
            "10 20\n"
          ],
          "name": "stdout"
        }
      ]
    },
    {
      "cell_type": "code",
      "metadata": {
        "id": "9vrLTTiTvekU",
        "outputId": "9a8d9d80-92c1-457f-b093-6b3a3ec048cc",
        "colab": {
          "base_uri": "https://localhost:8080/",
          "height": 34
        }
      },
      "source": [
        "print(a , b)"
      ],
      "execution_count": null,
      "outputs": [
        {
          "output_type": "stream",
          "text": [
            "10 20\n"
          ],
          "name": "stdout"
        }
      ]
    },
    {
      "cell_type": "code",
      "metadata": {
        "id": "xYKYc-r4vm5i",
        "outputId": "b8fc61d0-1ceb-4b4f-984c-2b0acff4d164",
        "colab": {
          "base_uri": "https://localhost:8080/",
          "height": 34
        }
      },
      "source": [
        "print(type(a))"
      ],
      "execution_count": null,
      "outputs": [
        {
          "output_type": "stream",
          "text": [
            "<class 'str'>\n"
          ],
          "name": "stdout"
        }
      ]
    },
    {
      "cell_type": "markdown",
      "metadata": {
        "id": "W4uhBhpNwGAP"
      },
      "source": [
        "# Solving Problem\n",
        "\n",
        "**Determining the Minimum and Maximum with Built-In Functions min and max**\n",
        "\n",
        "\n",
        "---\n",
        "\n"
      ]
    },
    {
      "cell_type": "code",
      "metadata": {
        "id": "1Ozwy-sXv11i",
        "outputId": "f84447cb-1168-470c-b6a0-f5a127dc6185",
        "colab": {
          "base_uri": "https://localhost:8080/",
          "height": 68
        }
      },
      "source": [
        "number1 = int(input('Enter first integer: '))\n",
        "number2 = int(input('Enter second integer: '))\n",
        "number3 = int(input('Enter third integer: '))"
      ],
      "execution_count": null,
      "outputs": [
        {
          "output_type": "stream",
          "text": [
            "Enter first integer: 20\n",
            "Enter second integer: 50\n",
            "Enter third integer: 100\n"
          ],
          "name": "stdout"
        }
      ]
    },
    {
      "cell_type": "code",
      "metadata": {
        "id": "QCbW8r0ax_gg",
        "outputId": "a307e714-165c-49ab-8843-d1e70a6220fd",
        "colab": {
          "base_uri": "https://localhost:8080/",
          "height": 34
        }
      },
      "source": [
        "min(number1,number2,number3)"
      ],
      "execution_count": null,
      "outputs": [
        {
          "output_type": "execute_result",
          "data": {
            "text/plain": [
              "20"
            ]
          },
          "metadata": {
            "tags": []
          },
          "execution_count": 70
        }
      ]
    },
    {
      "cell_type": "code",
      "metadata": {
        "id": "cJPEu86JyAAJ",
        "outputId": "d59e7e14-2e59-4eb5-eb06-abb43a39ac3a",
        "colab": {
          "base_uri": "https://localhost:8080/",
          "height": 34
        }
      },
      "source": [
        "max(number1,number2,number3)"
      ],
      "execution_count": null,
      "outputs": [
        {
          "output_type": "execute_result",
          "data": {
            "text/plain": [
              "100"
            ]
          },
          "metadata": {
            "tags": []
          },
          "execution_count": 71
        }
      ]
    },
    {
      "cell_type": "markdown",
      "metadata": {
        "id": "avdLbmSvyx19"
      },
      "source": [
        "#***Exercises***\n",
        "\n",
        "---\n",
        "\n",
        "\n",
        "\n",
        "**Create the variables x = 2 and y = 3, then determine what\n",
        "each of the following statements displays:**\n",
        "\n",
        "*  print('x =', x)\n",
        "*  print('Value of', x, '+', x, 'is', (x + x))\n",
        "*  print('x =')\n",
        "*  print((x + y), '=', (y + x))\n",
        "\n",
        "\n",
        "---\n",
        "\n"
      ]
    }
  ]
}